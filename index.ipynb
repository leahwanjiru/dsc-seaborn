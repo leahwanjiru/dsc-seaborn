{
 "cells": [
  {
   "cell_type": "markdown",
   "metadata": {},
   "source": [
    "# Seaborn\n",
    "\n",
    "## Introduction\n",
    "\n",
    "In this lesson, we'll be introduced to a second, more powerful data visualization library, **_Seaborn_**!\n",
    "\n",
    "## Objectives\n",
    "\n",
    "You will be able to:\n",
    "\n",
    "* Construct plots with Seaborn using its pre-built functionality\n",
    "\n",
    "## What is Seaborn?\n",
    "\n",
    "[Seaborn](https://seaborn.pydata.org/) is a Data Visualization library that makes it really, really easy to create professional-quality statistical visualizations with only one or two lines of code. Seaborn also makes it really easy to modify the _aesthetics_ of a plot, so that we can make sure all of our visualizations are eye-catching and easy to interpret, which isn't always the case with Matplotlib. \n",
    "\n",
    "## Seaborn and Matplotlib\n",
    "\n",
    "If seaborn is so awesome, you may be wondering why we bothered teaching you Matplotlib at all! The answer is that Seaborn is not a competing library--it's actually built on top of Matplotlib! Whereas Matplotlib provides the basic functionality for creating plots and filling them with different kinds of shapes and colors, Seaborn takes this functionality a step farther by providing a bunch of ready-made mathematical visualizations that are commonly used in Data Science. Best of all, Seaborn is written to be simple to use and easy to understand, so most visualizations only take 1 or 2 lines of code! \n",
    "\n",
    "The plot on the left is a standard plot from Matplotlib. The plot on the right is from Seaborn. What a difference!\n",
    "\n",
    "| <img src='https://curriculum-content.s3.amazonaws.com/data-science/images/ugly_plot.png'> | <img src='https://curriculum-content.s3.amazonaws.com/data-science/images/pretty_plot.png'> |\n",
    "|---------------------------|-----------------------------|\n",
    "\n",
    "### When to Use Each\n",
    "\n",
    "When you're just performing some basic EDA and exploring a dataset, there are times when matplotlib may be most useful to you. If that's the case, don't be afraid to stick to matplotlib. However, Seaborn shines in two particular areas--providing ready-made plots for statistical analysis, and making beautiful plots for presenting to others.  Perhaps, during your EDA, you want to see the regression line between two features. If that's the case, Seaborn should be your choice, because it only takes a single line of code, whereas Matplotlib would be more complicated. \n",
    "\n",
    "When it comes to presentations, it is highly recommended to use Seaborn. Whether in a PowerPoint Presentation or just a Jupyter Notebook you'll be making publicly available, Seaborn visualizations are easier on the eyes, and worth the time.  As a rule of thumb, if you plan on showing the plot to other people, consider using Seaborn. \n",
    "\n",
    "##  Basic Plots with Seaborn\n",
    "\n",
    "Like any python library, the first thing we have to do to use Seaborn is to import it. The standard alias for Seaborn is `sns`. Once we've imported Seaborn, most visualizations are as simple as calling the function for the plot we want, and passing in the data and necessary parameters. \n",
    "\n",
    "The main parameter you'll need to specify is `data`. This would be where you pass in your DataFrame. Some plots, such as a boxplot, don't need more than that--Seaborn can usually figure the rest out on its own (depending on the shape and complexity of your data). For bivariate plots that show the relationship between two different columns, you'll need to specify which column should be used for the x-axis and which should be used for the y-axis. \n",
    "\n",
    "Let's look at some examples from the Seaborn documentation.\n",
    "\n",
    "### Simple Univariate Boxplot\n",
    "\n",
    "```python\n",
    "import seaborn as sns\n",
    "\n",
    "tips = sns.load_dataset('tips') # Seaborn comes prepackaged with several different datasets that are great for visualizing!\n",
    "\n",
    "boxplot = sns.boxplot(data=tips[\"total_bill\"])\n",
    "```\n",
    "\n",
    "<img src='https://curriculum-content.s3.amazonaws.com/data-science/images/boxplot-1.png'>\n",
    "\n",
    "### Boxplot Grouped by Categorical Variable\n",
    "\n",
    "```python\n",
    "sns.boxplot(x=\"day\", y=\"total_bill\", data=tips)\n",
    "```\n",
    "\n",
    "<img src='https://curriculum-content.s3.amazonaws.com/data-science/images/boxplot-2.png'>\n",
    "\n",
    "### More Complex Boxplot with Nest Grouping of Categorical Variables\n",
    "\n",
    "```python\n",
    "sns.boxplot(x=\"day\", y=\"total_bill\", hue=\"smoker\", data=tips, palette=\"Set3\")\n",
    "```\n",
    "\n",
    "<img src='https://curriculum-content.s3.amazonaws.com/data-science/images/boxplot-3.png'>\n",
    "\n",
    "## Regression Plots\n",
    "\n",
    "One of the coolest features of Seaborn is the ability to create complex plots like **_Regression Plots_**, which automatically perform regression and fit a line to your data. We'll learn to create these ourselves in the next lab--as you'll see, it's quite simple!\n",
    "\n",
    "<img src='https://curriculum-content.s3.amazonaws.com/data-science/images/regression.png'>\n",
    "\n",
    "## Summary\n",
    "\n",
    "In this lesson, we learned all about Seaborn!"
   ]
  },
  {
   "cell_type": "code",
   "execution_count": 8,
   "metadata": {},
   "outputs": [
    {
     "ename": "SyntaxError",
     "evalue": "invalid syntax (__config__.py, line 13)",
     "output_type": "error",
     "traceback": [
      "Traceback \u001b[1;36m(most recent call last)\u001b[0m:\n",
      "  File \u001b[0;32m\"C:\\Users\\Leah Ng'ethe\\.conda\\envs\\learn-env\\lib\\site-packages\\IPython\\core\\interactiveshell.py\"\u001b[0m, line \u001b[0;32m3417\u001b[0m, in \u001b[0;35mrun_code\u001b[0m\n    exec(code_obj, self.user_global_ns, self.user_ns)\n",
      "  File \u001b[0;32m\"<ipython-input-8-a84c0541e888>\"\u001b[0m, line \u001b[0;32m1\u001b[0m, in \u001b[0;35m<module>\u001b[0m\n    import seaborn as sns\n",
      "  File \u001b[0;32m\"C:\\Users\\Leah Ng'ethe\\.conda\\envs\\learn-env\\lib\\site-packages\\seaborn\\__init__.py\"\u001b[0m, line \u001b[0;32m2\u001b[0m, in \u001b[0;35m<module>\u001b[0m\n    from .rcmod import *  # noqa: F401,F403\n",
      "  File \u001b[0;32m\"C:\\Users\\Leah Ng'ethe\\.conda\\envs\\learn-env\\lib\\site-packages\\seaborn\\rcmod.py\"\u001b[0m, line \u001b[0;32m7\u001b[0m, in \u001b[0;35m<module>\u001b[0m\n    from . import palettes\n",
      "  File \u001b[0;32m\"C:\\Users\\Leah Ng'ethe\\.conda\\envs\\learn-env\\lib\\site-packages\\seaborn\\palettes.py\"\u001b[0m, line \u001b[0;32m9\u001b[0m, in \u001b[0;35m<module>\u001b[0m\n    from .utils import desaturate, get_color_cycle\n",
      "  File \u001b[0;32m\"C:\\Users\\Leah Ng'ethe\\.conda\\envs\\learn-env\\lib\\site-packages\\seaborn\\utils.py\"\u001b[0m, line \u001b[0;32m10\u001b[0m, in \u001b[0;35m<module>\u001b[0m\n    from scipy import stats\n",
      "\u001b[1;36m  File \u001b[1;32m\"C:\\Users\\Leah Ng'ethe\\.conda\\envs\\learn-env\\lib\\site-packages\\scipy\\__init__.py\"\u001b[1;36m, line \u001b[1;32m129\u001b[1;36m, in \u001b[1;35m<module>\u001b[1;36m\u001b[0m\n\u001b[1;33m    from scipy.__config__ import show as show_config\u001b[0m\n",
      "\u001b[1;36m  File \u001b[1;32m\"C:\\Users\\Leah Ng'ethe\\.conda\\envs\\learn-env\\lib\\site-packages\\scipy\\__config__.py\"\u001b[1;36m, line \u001b[1;32m13\u001b[0m\n\u001b[1;33m    lapack_mkl_info={'libraries': ['mkl_rt'], 'library_dirs': ['C:/Users/Leah Ng'ethe/.conda/envs/learn-env\\\\Library\\\\lib'], 'define_macros': [('SCIPY_MKL_H', None), ('HAVE_CBLAS', None)], 'include_dirs': ['C:\\\\Program Files (x86)\\\\IntelSWTools\\\\compilers_and_libraries_2019.0.117\\\\windows\\\\mkl', 'C:\\\\Program Files (x86)\\\\IntelSWTools\\\\compilers_and_libraries_2019.0.117\\\\windows\\\\mkl\\\\include', 'C:\\\\Program Files (x86)\\\\IntelSWTools\\\\compilers_and_libraries_2019.0.117\\\\windows\\\\mkl\\\\lib', 'C:/Users/Leah Ng'ethe/.conda/envs/learn-env\\\\Library\\\\include']}\u001b[0m\n\u001b[1;37m                                                                                 ^\u001b[0m\n\u001b[1;31mSyntaxError\u001b[0m\u001b[1;31m:\u001b[0m invalid syntax\n"
     ]
    }
   ],
   "source": [
    "import seaborn as sns"
   ]
  },
  {
   "cell_type": "code",
   "execution_count": 5,
   "metadata": {},
   "outputs": [
    {
     "ename": "SyntaxError",
     "evalue": "invalid syntax (__config__.py, line 13)",
     "output_type": "error",
     "traceback": [
      "Traceback \u001b[1;36m(most recent call last)\u001b[0m:\n",
      "  File \u001b[0;32m\"C:\\Users\\Leah Ng'ethe\\.conda\\envs\\learn-env\\lib\\site-packages\\IPython\\core\\interactiveshell.py\"\u001b[0m, line \u001b[0;32m3417\u001b[0m, in \u001b[0;35mrun_code\u001b[0m\n    exec(code_obj, self.user_global_ns, self.user_ns)\n",
      "  File \u001b[0;32m\"<ipython-input-5-c585251bae00>\"\u001b[0m, line \u001b[0;32m1\u001b[0m, in \u001b[0;35m<module>\u001b[0m\n    import seaborn as sns\n",
      "  File \u001b[0;32m\"C:\\Users\\Leah Ng'ethe\\.conda\\envs\\learn-env\\lib\\site-packages\\seaborn\\__init__.py\"\u001b[0m, line \u001b[0;32m2\u001b[0m, in \u001b[0;35m<module>\u001b[0m\n    from .rcmod import *  # noqa: F401,F403\n",
      "  File \u001b[0;32m\"C:\\Users\\Leah Ng'ethe\\.conda\\envs\\learn-env\\lib\\site-packages\\seaborn\\rcmod.py\"\u001b[0m, line \u001b[0;32m7\u001b[0m, in \u001b[0;35m<module>\u001b[0m\n    from . import palettes\n",
      "  File \u001b[0;32m\"C:\\Users\\Leah Ng'ethe\\.conda\\envs\\learn-env\\lib\\site-packages\\seaborn\\palettes.py\"\u001b[0m, line \u001b[0;32m9\u001b[0m, in \u001b[0;35m<module>\u001b[0m\n    from .utils import desaturate, get_color_cycle\n",
      "  File \u001b[0;32m\"C:\\Users\\Leah Ng'ethe\\.conda\\envs\\learn-env\\lib\\site-packages\\seaborn\\utils.py\"\u001b[0m, line \u001b[0;32m10\u001b[0m, in \u001b[0;35m<module>\u001b[0m\n    from scipy import stats\n",
      "\u001b[1;36m  File \u001b[1;32m\"C:\\Users\\Leah Ng'ethe\\.conda\\envs\\learn-env\\lib\\site-packages\\scipy\\__init__.py\"\u001b[1;36m, line \u001b[1;32m129\u001b[1;36m, in \u001b[1;35m<module>\u001b[1;36m\u001b[0m\n\u001b[1;33m    from scipy.__config__ import show as show_config\u001b[0m\n",
      "\u001b[1;36m  File \u001b[1;32m\"C:\\Users\\Leah Ng'ethe\\.conda\\envs\\learn-env\\lib\\site-packages\\scipy\\__config__.py\"\u001b[1;36m, line \u001b[1;32m13\u001b[0m\n\u001b[1;33m    lapack_mkl_info={'libraries': ['mkl_rt'], 'library_dirs': ['C:/Users/Leah Ng'ethe/.conda/envs/learn-env\\\\Library\\\\lib'], 'define_macros': [('SCIPY_MKL_H', None), ('HAVE_CBLAS', None)], 'include_dirs': ['C:\\\\Program Files (x86)\\\\IntelSWTools\\\\compilers_and_libraries_2019.0.117\\\\windows\\\\mkl', 'C:\\\\Program Files (x86)\\\\IntelSWTools\\\\compilers_and_libraries_2019.0.117\\\\windows\\\\mkl\\\\include', 'C:\\\\Program Files (x86)\\\\IntelSWTools\\\\compilers_and_libraries_2019.0.117\\\\windows\\\\mkl\\\\lib', 'C:/Users/Leah Ng'ethe/.conda/envs/learn-env\\\\Library\\\\include']}\u001b[0m\n\u001b[1;37m                                                                                 ^\u001b[0m\n\u001b[1;31mSyntaxError\u001b[0m\u001b[1;31m:\u001b[0m invalid syntax\n"
     ]
    }
   ],
   "source": [
    "import seaborn as sns\n",
    "\n",
    "tips = sns.load_dataset('tips') # Seaborn comes prepackaged with several different datasets that are great for visualizing!\n",
    "tips.head()"
   ]
  },
  {
   "cell_type": "code",
   "execution_count": 7,
   "metadata": {},
   "outputs": [
    {
     "ename": "NameError",
     "evalue": "name 'sns' is not defined",
     "output_type": "error",
     "traceback": [
      "\u001b[1;31m---------------------------------------------------------------------------\u001b[0m",
      "\u001b[1;31mNameError\u001b[0m                                 Traceback (most recent call last)",
      "\u001b[1;32m<ipython-input-7-45150f12c96a>\u001b[0m in \u001b[0;36m<module>\u001b[1;34m\u001b[0m\n\u001b[1;32m----> 1\u001b[1;33m \u001b[0mboxplot\u001b[0m \u001b[1;33m=\u001b[0m \u001b[0msns\u001b[0m\u001b[1;33m.\u001b[0m\u001b[0mboxplot\u001b[0m\u001b[1;33m(\u001b[0m\u001b[0mdata\u001b[0m\u001b[1;33m=\u001b[0m\u001b[0mtips\u001b[0m\u001b[1;33m[\u001b[0m\u001b[1;34m\"total_bill\"\u001b[0m\u001b[1;33m]\u001b[0m\u001b[1;33m)\u001b[0m\u001b[1;33m\u001b[0m\u001b[1;33m\u001b[0m\u001b[0m\n\u001b[0m",
      "\u001b[1;31mNameError\u001b[0m: name 'sns' is not defined"
     ]
    }
   ],
   "source": [
    "boxplot = sns.boxplot(data=tips[\"total_bill\"])"
   ]
  },
  {
   "cell_type": "code",
   "execution_count": 10,
   "metadata": {},
   "outputs": [
    {
     "ename": "NameError",
     "evalue": "name 'data' is not defined",
     "output_type": "error",
     "traceback": [
      "\u001b[1;31m---------------------------------------------------------------------------\u001b[0m",
      "\u001b[1;31mNameError\u001b[0m                                 Traceback (most recent call last)",
      "\u001b[1;32m<ipython-input-10-836a545c5ae2>\u001b[0m in \u001b[0;36m<module>\u001b[1;34m\u001b[0m\n\u001b[1;32m----> 1\u001b[1;33m \u001b[0mdata\u001b[0m\u001b[1;33m.\u001b[0m\u001b[0mplot\u001b[0m\u001b[1;33m(\u001b[0m\u001b[0mkind\u001b[0m \u001b[1;33m=\u001b[0m \u001b[1;34m'boxplot'\u001b[0m\u001b[1;33m)\u001b[0m\u001b[1;33m\u001b[0m\u001b[1;33m\u001b[0m\u001b[0m\n\u001b[0m",
      "\u001b[1;31mNameError\u001b[0m: name 'data' is not defined"
     ]
    }
   ],
   "source": [
    "data.plot(kind = 'boxplot')"
   ]
  },
  {
   "cell_type": "code",
   "execution_count": null,
   "metadata": {},
   "outputs": [],
   "source": []
  }
 ],
 "metadata": {
  "kernelspec": {
   "display_name": "Python 3",
   "language": "python",
   "name": "python3"
  },
  "language_info": {
   "codemirror_mode": {
    "name": "ipython",
    "version": 3
   },
   "file_extension": ".py",
   "mimetype": "text/x-python",
   "name": "python",
   "nbconvert_exporter": "python",
   "pygments_lexer": "ipython3",
   "version": "3.8.5"
  }
 },
 "nbformat": 4,
 "nbformat_minor": 2
}
